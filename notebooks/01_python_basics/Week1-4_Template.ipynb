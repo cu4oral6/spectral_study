{
 "cells": [
  {
   "cell_type": "markdown",
   "id": "a5ac43ff",
   "metadata": {},
   "source": [
    "# Week1-4: Python Basics / Week1-4: Python 基础\n",
    "\n",
    "This notebook contains Week1~Week4 teaching notes and exercises. / 本笔记包含第1~4周的教学笔记与练习。"
   ]
  },
  {
   "cell_type": "markdown",
   "id": "4f07b62f",
   "metadata": {},
   "source": [
    "## Week 1 / 第1周\n",
    "\n",
    "**Goal / 目标**: Setup environment and learn basic Python syntax. / 搭建环境并学习 Python 基础语法。"
   ]
  },
  {
   "cell_type": "code",
   "execution_count": null,
   "id": "81e23467",
   "metadata": {},
   "outputs": [],
   "source": [
    "# Week 1: Environment check (运行环境检查)\n",
    "import sys\n",
    "print('Python', sys.version)\n",
    "import torch\n",
    "print('PyTorch', torch.__version__)"
   ]
  },
  {
   "cell_type": "markdown",
   "id": "b0405b9b",
   "metadata": {},
   "source": [
    "## Week 2 / 第2周\n",
    "\n",
    "**Goal / 目标**: Data structures (lists, dicts, numpy arrays). / 数据结构（列表、字典、NumPy 数组）。"
   ]
  },
  {
   "cell_type": "code",
   "execution_count": null,
   "id": "4ac111fb",
   "metadata": {},
   "outputs": [],
   "source": [
    "# Week 2 example: numpy array operations (NumPy 操作示例)\n",
    "import numpy as np\n",
    "arr = np.arange(12).reshape(3,4)\n",
    "print(arr)\n",
    "print('mean=', np.mean(arr))"
   ]
  },
  {
   "cell_type": "markdown",
   "id": "a0a139c8",
   "metadata": {},
   "source": [
    "## Week 3 / 第3周\n",
    "\n",
    "**Goal / 目标**: File IO, CSV, basic pandas. / 文件读写、CSV、Pandas 基础。"
   ]
  },
  {
   "cell_type": "code",
   "execution_count": null,
   "id": "0c6638e6",
   "metadata": {},
   "outputs": [],
   "source": [
    "# Week 3 example: pandas read/write (Pandas 示例)\n",
    "import pandas as pd\n",
    "df = pd.DataFrame({'a':[1,2,3],'b':[4,5,6]})\n",
    "df.to_csv('sample.csv', index=False)\n",
    "print(df.head())"
   ]
  },
  {
   "cell_type": "markdown",
   "id": "2100f38a",
   "metadata": {},
   "source": [
    "## Week 4 / 第4周\n",
    "\n",
    "**Goal / 目标**: Project organization and small exercises. / 项目组织与小练习。"
   ]
  },
  {
   "cell_type": "code",
   "execution_count": null,
   "id": "49f7142d",
   "metadata": {},
   "outputs": [],
   "source": [
    "# Week 4 example exercise\n",
    "# Implement a simple function and test it\n",
    "\n",
    "def multiply(x, y):\n",
    "    \"\"\"Multiply two numbers / 相乘函数\"\"\"\n",
    "    return x * y\n",
    "\n",
    "print(multiply(6,7))"
   ]
  }
 ],
 "metadata": {},
 "nbformat": 4,
 "nbformat_minor": 5
}
